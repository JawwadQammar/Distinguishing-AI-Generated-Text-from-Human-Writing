{
  "cells": [
    {
      "cell_type": "markdown",
      "metadata": {
        "id": "VggvGis5h2B-"
      },
      "source": [
        "# Model Definition and Evaluation\n",
        "## Table of Contents\n",
        "1. [Model Selection](#model-selection)\n",
        "2. [Feature Engineering](#feature-engineering)\n",
        "3. [Hyperparameter Tuning](#hyperparameter-tuning)\n",
        "4. [Implementation](#implementation)\n",
        "5. [Evaluation Metrics](#evaluation-metrics)\n",
        "6. [Comparative Analysis](#comparative-analysis)\n"
      ]
    },
    {
      "cell_type": "code",
      "execution_count": null,
      "metadata": {
        "id": "KQtvB9Qeh2CF"
      },
      "outputs": [],
      "source": [
        "# Import necessary libraries\n",
        "import pandas as pd  # Import pandas for data manipulation and analysis.\n",
        "import matplotlib.pyplot as plt  # Import matplotlib for plotting graphs and visualizations.\n",
        "from sklearn.feature_extraction.text import CountVectorizer  # Import CountVectorizer for converting text to numerical data.\n",
        "from sklearn.utils import shuffle  # Import shuffle to randomize the order of data.\n",
        "from scipy.sparse import hstack  # Import hstack to combine sparse matrices.\n",
        "from sklearn.model_selection import train_test_split, cross_val_predict, cross_val_score  # Import methods for model validation and splitting data.\n",
        "from sklearn.metrics import accuracy_score, classification_report  # Import metrics to evaluate model performance.\n",
        "import tensorflow as tf  # Import TensorFlow for deep learning tasks.\n",
        "from tensorflow.keras.models import Sequential  # Import Sequential for building neural network models layer by layer.\n",
        "from tensorflow.keras.layers import Dense  # Import Dense to add fully connected layers to the model.\n",
        "from tensorflow.keras.optimizers import Adam  # Import Adam optimizer for training the model.\n",
        "import numpy as np  # Import NumPy for numerical operations and array manipulation.\n",
        "import gzip  # Import gzip for reading and writing compressed files.\n",
        "from sklearn.linear_model import LogisticRegression  # Import LogisticRegression for classification tasks.\n",
        "#from sklearn.metrics import make_scorer, accuracy_score\n",
        "#from scikeras.wrappers import KerasClassifier  # Import KerasClassifier\n"
      ]
    },
    {
      "cell_type": "markdown",
      "metadata": {
        "id": "HsX7TMkzh2CJ"
      },
      "source": [
        "## Model Selection\n",
        "\n",
        "[Discuss the type(s) of models you consider for this task, and justify the selection.]\n",
        "\n"
      ]
    },
    {
      "cell_type": "markdown",
      "metadata": {
        "id": "O8Cbop15h2CK"
      },
      "source": [
        "## Feature Engineering\n",
        "\n",
        "[Describe any additional feature engineering you've performed beyond what was done for the baseline model.]\n"
      ]
    },
    {
      "cell_type": "code",
      "execution_count": null,
      "metadata": {
        "id": "ptkRUIlwh2CM"
      },
      "outputs": [],
      "source": [
        "# Load the dataset\n",
        "# Replace 'your_dataset.csv' with the path to your actual dataset\n",
        "# Load the dataset\n",
        "# Replace 'your_dataset.csv' with the path to your actual dataset\n",
        "df = pd.read_csv('/content/Combined-Text-Dataset.csv')\n",
        "\n",
        "# Feature selection\n",
        "# Example: Selecting only two features for a simple baseline model\n",
        "# X = df[['feature1', 'feature2']]\n",
        "# y = df['target_variable']\n",
        "\n",
        "# Splitting the dataset\n",
        "# X_train, X_test, y_train, y_test = train_test_split(X, y, test_size=0.2, random_state=42)\n",
        "\n",
        "#We are initializing separate `CountVectorizer` objects for the `abstract`, `title`, and `keyword` columns. These vectorizers will convert the text data into numerical features suitable for machine learning models.\n",
        "vectorizer_abstract = CountVectorizer()  # Initialize a CountVectorizer for the 'abstract' column to convert text data into a matrix of token counts.\n",
        "vectorizer_title = CountVectorizer()  # Initialize a CountVectorizer for the 'title' column for the same purpose.\n",
        "vectorizer_keyword = CountVectorizer()  # Initialize a CountVectorizer for the 'keyword' column to convert keyword text data into numerical features.\n",
        "\n",
        "\n",
        "## Transforming Text Data into Numerical Features\n",
        "X_abstract = vectorizer_abstract.fit_transform(df['abstract'])  # Fit the CountVectorizer on the 'abstract' column and transform the text data into a numerical feature matrix.\n",
        "X_title = vectorizer_title.fit_transform(df['title'])  # Fit the CountVectorizer on the 'title' column and transform the text data into a numerical feature matrix.\n",
        "X_keyword = vectorizer_keyword.fit_transform(df['keyword'])  # Fit the CountVectorizer on the 'keyword' column and transform the text data into a numerical feature matrix.\n",
        "\n",
        "# Combine the feature matrices from 'abstract', 'title', and 'keyword' into a single sparse matrix using horizontal stacking.\n",
        "X = hstack([X_abstract, X_title, X_keyword])\n",
        "\n",
        "# Define the target variable 'y' as the 'is_human' column, which contains labels for human-written (1) and AI-generated (0) text.\n",
        "y = df['is_human']\n",
        "\n",
        "# Splitting the Data into Training and Testing Sets\n",
        "X_train, X_test, y_train, y_test = train_test_split(X, y, test_size=0.2, random_state=42)\n",
        "# Split the data into training and testing sets.\n",
        "# 'test_size=0.2' means 20% of the data will be used for testing, while 80% will be used for training.\n",
        "# 'random_state=42' ensures reproducibility by fixing the randomness in the split.\n",
        "\n",
        "X_train_split, X_val, y_train_split, y_val = train_test_split(X_train, y_train, test_size=0.2, random_state=42)\n",
        "# Split the original training data into a smaller training set (X_train_split, y_train_split) and a validation set (X_val, y_val).\n",
        "# 'test_size=0.2' means 20% of the original training data is set aside for validation.\n",
        "# 'random_state=42' ensures that the split is reproducible.\n",
        "\n",
        "X_train_split_dense = X_train_split.toarray()  # Convert the sparse matrix of the training split into a dense NumPy array.\n",
        "X_val_dense = X_val.toarray()  # Convert the sparse matrix of the validation set into a dense NumPy array."
      ]
    },
    {
      "cell_type": "markdown",
      "metadata": {
        "id": "v4B2z1Dkh2CO"
      },
      "source": [
        "## Hyperparameter Tuning\n",
        "\n",
        "[Discuss any hyperparameter tuning methods you've applied, such as Grid Search or Random Search, and the rationale behind them.]\n"
      ]
    },
    {
      "cell_type": "code",
      "source": [
        "\n",
        "from sklearn.tree import DecisionTreeClassifier # Import DecisionTreeClassifier\n"
      ],
      "metadata": {
        "id": "N6xXFP8Xs6zj"
      },
      "execution_count": null,
      "outputs": []
    },
    {
      "cell_type": "code",
      "execution_count": null,
      "metadata": {
        "id": "bFIcnMH8h2CP",
        "colab": {
          "base_uri": "https://localhost:8080/"
        },
        "collapsed": true,
        "outputId": "607c1566-b4ee-41b4-d765-3ec179631b8f"
      },
      "outputs": [
        {
          "output_type": "stream",
          "name": "stderr",
          "text": [
            "/usr/local/lib/python3.11/dist-packages/sklearn/linear_model/_sag.py:350: ConvergenceWarning: The max_iter was reached which means the coef_ did not converge\n",
            "  warnings.warn(\n",
            "/usr/local/lib/python3.11/dist-packages/sklearn/linear_model/_sag.py:350: ConvergenceWarning: The max_iter was reached which means the coef_ did not converge\n",
            "  warnings.warn(\n",
            "/usr/local/lib/python3.11/dist-packages/sklearn/linear_model/_sag.py:350: ConvergenceWarning: The max_iter was reached which means the coef_ did not converge\n",
            "  warnings.warn(\n",
            "/usr/local/lib/python3.11/dist-packages/sklearn/linear_model/_sag.py:350: ConvergenceWarning: The max_iter was reached which means the coef_ did not converge\n",
            "  warnings.warn(\n",
            "/usr/local/lib/python3.11/dist-packages/sklearn/linear_model/_sag.py:350: ConvergenceWarning: The max_iter was reached which means the coef_ did not converge\n",
            "  warnings.warn(\n",
            "/usr/local/lib/python3.11/dist-packages/sklearn/linear_model/_sag.py:350: ConvergenceWarning: The max_iter was reached which means the coef_ did not converge\n",
            "  warnings.warn(\n",
            "/usr/local/lib/python3.11/dist-packages/sklearn/linear_model/_sag.py:350: ConvergenceWarning: The max_iter was reached which means the coef_ did not converge\n",
            "  warnings.warn(\n",
            "/usr/local/lib/python3.11/dist-packages/sklearn/linear_model/_sag.py:350: ConvergenceWarning: The max_iter was reached which means the coef_ did not converge\n",
            "  warnings.warn(\n",
            "/usr/local/lib/python3.11/dist-packages/sklearn/linear_model/_sag.py:350: ConvergenceWarning: The max_iter was reached which means the coef_ did not converge\n",
            "  warnings.warn(\n",
            "/usr/local/lib/python3.11/dist-packages/sklearn/linear_model/_sag.py:350: ConvergenceWarning: The max_iter was reached which means the coef_ did not converge\n",
            "  warnings.warn(\n",
            "/usr/local/lib/python3.11/dist-packages/sklearn/linear_model/_sag.py:350: ConvergenceWarning: The max_iter was reached which means the coef_ did not converge\n",
            "  warnings.warn(\n",
            "/usr/local/lib/python3.11/dist-packages/sklearn/linear_model/_sag.py:350: ConvergenceWarning: The max_iter was reached which means the coef_ did not converge\n",
            "  warnings.warn(\n",
            "/usr/local/lib/python3.11/dist-packages/sklearn/linear_model/_sag.py:350: ConvergenceWarning: The max_iter was reached which means the coef_ did not converge\n",
            "  warnings.warn(\n",
            "/usr/local/lib/python3.11/dist-packages/sklearn/linear_model/_sag.py:350: ConvergenceWarning: The max_iter was reached which means the coef_ did not converge\n",
            "  warnings.warn(\n",
            "/usr/local/lib/python3.11/dist-packages/sklearn/linear_model/_sag.py:350: ConvergenceWarning: The max_iter was reached which means the coef_ did not converge\n",
            "  warnings.warn(\n",
            "/usr/local/lib/python3.11/dist-packages/sklearn/linear_model/_sag.py:350: ConvergenceWarning: The max_iter was reached which means the coef_ did not converge\n",
            "  warnings.warn(\n",
            "/usr/local/lib/python3.11/dist-packages/sklearn/linear_model/_sag.py:350: ConvergenceWarning: The max_iter was reached which means the coef_ did not converge\n",
            "  warnings.warn(\n",
            "/usr/local/lib/python3.11/dist-packages/sklearn/linear_model/_sag.py:350: ConvergenceWarning: The max_iter was reached which means the coef_ did not converge\n",
            "  warnings.warn(\n",
            "/usr/local/lib/python3.11/dist-packages/sklearn/linear_model/_sag.py:350: ConvergenceWarning: The max_iter was reached which means the coef_ did not converge\n",
            "  warnings.warn(\n",
            "/usr/local/lib/python3.11/dist-packages/sklearn/linear_model/_sag.py:350: ConvergenceWarning: The max_iter was reached which means the coef_ did not converge\n",
            "  warnings.warn(\n",
            "/usr/local/lib/python3.11/dist-packages/sklearn/linear_model/_sag.py:350: ConvergenceWarning: The max_iter was reached which means the coef_ did not converge\n",
            "  warnings.warn(\n",
            "/usr/local/lib/python3.11/dist-packages/sklearn/linear_model/_sag.py:350: ConvergenceWarning: The max_iter was reached which means the coef_ did not converge\n",
            "  warnings.warn(\n",
            "/usr/local/lib/python3.11/dist-packages/sklearn/linear_model/_sag.py:350: ConvergenceWarning: The max_iter was reached which means the coef_ did not converge\n",
            "  warnings.warn(\n",
            "/usr/local/lib/python3.11/dist-packages/sklearn/linear_model/_sag.py:350: ConvergenceWarning: The max_iter was reached which means the coef_ did not converge\n",
            "  warnings.warn(\n",
            "/usr/local/lib/python3.11/dist-packages/sklearn/linear_model/_sag.py:350: ConvergenceWarning: The max_iter was reached which means the coef_ did not converge\n",
            "  warnings.warn(\n",
            "/usr/local/lib/python3.11/dist-packages/sklearn/linear_model/_sag.py:350: ConvergenceWarning: The max_iter was reached which means the coef_ did not converge\n",
            "  warnings.warn(\n",
            "/usr/local/lib/python3.11/dist-packages/sklearn/linear_model/_sag.py:350: ConvergenceWarning: The max_iter was reached which means the coef_ did not converge\n",
            "  warnings.warn(\n",
            "/usr/local/lib/python3.11/dist-packages/sklearn/linear_model/_sag.py:350: ConvergenceWarning: The max_iter was reached which means the coef_ did not converge\n",
            "  warnings.warn(\n",
            "/usr/local/lib/python3.11/dist-packages/sklearn/linear_model/_sag.py:350: ConvergenceWarning: The max_iter was reached which means the coef_ did not converge\n",
            "  warnings.warn(\n",
            "/usr/local/lib/python3.11/dist-packages/sklearn/linear_model/_sag.py:350: ConvergenceWarning: The max_iter was reached which means the coef_ did not converge\n",
            "  warnings.warn(\n",
            "/usr/local/lib/python3.11/dist-packages/sklearn/linear_model/_sag.py:350: ConvergenceWarning: The max_iter was reached which means the coef_ did not converge\n",
            "  warnings.warn(\n",
            "/usr/local/lib/python3.11/dist-packages/sklearn/linear_model/_sag.py:350: ConvergenceWarning: The max_iter was reached which means the coef_ did not converge\n",
            "  warnings.warn(\n",
            "/usr/local/lib/python3.11/dist-packages/sklearn/linear_model/_sag.py:350: ConvergenceWarning: The max_iter was reached which means the coef_ did not converge\n",
            "  warnings.warn(\n",
            "/usr/local/lib/python3.11/dist-packages/sklearn/linear_model/_sag.py:350: ConvergenceWarning: The max_iter was reached which means the coef_ did not converge\n",
            "  warnings.warn(\n",
            "/usr/local/lib/python3.11/dist-packages/sklearn/linear_model/_sag.py:350: ConvergenceWarning: The max_iter was reached which means the coef_ did not converge\n",
            "  warnings.warn(\n",
            "/usr/local/lib/python3.11/dist-packages/sklearn/linear_model/_sag.py:350: ConvergenceWarning: The max_iter was reached which means the coef_ did not converge\n",
            "  warnings.warn(\n",
            "/usr/local/lib/python3.11/dist-packages/sklearn/linear_model/_sag.py:350: ConvergenceWarning: The max_iter was reached which means the coef_ did not converge\n",
            "  warnings.warn(\n",
            "/usr/local/lib/python3.11/dist-packages/sklearn/linear_model/_sag.py:350: ConvergenceWarning: The max_iter was reached which means the coef_ did not converge\n",
            "  warnings.warn(\n",
            "/usr/local/lib/python3.11/dist-packages/sklearn/linear_model/_sag.py:350: ConvergenceWarning: The max_iter was reached which means the coef_ did not converge\n",
            "  warnings.warn(\n",
            "/usr/local/lib/python3.11/dist-packages/sklearn/linear_model/_sag.py:350: ConvergenceWarning: The max_iter was reached which means the coef_ did not converge\n",
            "  warnings.warn(\n",
            "/usr/local/lib/python3.11/dist-packages/sklearn/linear_model/_sag.py:350: ConvergenceWarning: The max_iter was reached which means the coef_ did not converge\n",
            "  warnings.warn(\n",
            "/usr/local/lib/python3.11/dist-packages/sklearn/linear_model/_sag.py:350: ConvergenceWarning: The max_iter was reached which means the coef_ did not converge\n",
            "  warnings.warn(\n",
            "/usr/local/lib/python3.11/dist-packages/sklearn/linear_model/_sag.py:350: ConvergenceWarning: The max_iter was reached which means the coef_ did not converge\n",
            "  warnings.warn(\n",
            "/usr/local/lib/python3.11/dist-packages/sklearn/linear_model/_sag.py:350: ConvergenceWarning: The max_iter was reached which means the coef_ did not converge\n",
            "  warnings.warn(\n",
            "/usr/local/lib/python3.11/dist-packages/sklearn/linear_model/_sag.py:350: ConvergenceWarning: The max_iter was reached which means the coef_ did not converge\n",
            "  warnings.warn(\n",
            "/usr/local/lib/python3.11/dist-packages/sklearn/linear_model/_sag.py:350: ConvergenceWarning: The max_iter was reached which means the coef_ did not converge\n",
            "  warnings.warn(\n",
            "/usr/local/lib/python3.11/dist-packages/sklearn/linear_model/_sag.py:350: ConvergenceWarning: The max_iter was reached which means the coef_ did not converge\n",
            "  warnings.warn(\n",
            "/usr/local/lib/python3.11/dist-packages/sklearn/linear_model/_sag.py:350: ConvergenceWarning: The max_iter was reached which means the coef_ did not converge\n",
            "  warnings.warn(\n",
            "/usr/local/lib/python3.11/dist-packages/sklearn/linear_model/_sag.py:350: ConvergenceWarning: The max_iter was reached which means the coef_ did not converge\n",
            "  warnings.warn(\n",
            "/usr/local/lib/python3.11/dist-packages/sklearn/linear_model/_sag.py:350: ConvergenceWarning: The max_iter was reached which means the coef_ did not converge\n",
            "  warnings.warn(\n",
            "/usr/local/lib/python3.11/dist-packages/sklearn/linear_model/_sag.py:350: ConvergenceWarning: The max_iter was reached which means the coef_ did not converge\n",
            "  warnings.warn(\n",
            "/usr/local/lib/python3.11/dist-packages/sklearn/linear_model/_sag.py:350: ConvergenceWarning: The max_iter was reached which means the coef_ did not converge\n",
            "  warnings.warn(\n",
            "/usr/local/lib/python3.11/dist-packages/sklearn/linear_model/_sag.py:350: ConvergenceWarning: The max_iter was reached which means the coef_ did not converge\n",
            "  warnings.warn(\n",
            "/usr/local/lib/python3.11/dist-packages/sklearn/linear_model/_sag.py:350: ConvergenceWarning: The max_iter was reached which means the coef_ did not converge\n",
            "  warnings.warn(\n",
            "/usr/local/lib/python3.11/dist-packages/sklearn/linear_model/_sag.py:350: ConvergenceWarning: The max_iter was reached which means the coef_ did not converge\n",
            "  warnings.warn(\n",
            "/usr/local/lib/python3.11/dist-packages/sklearn/linear_model/_sag.py:350: ConvergenceWarning: The max_iter was reached which means the coef_ did not converge\n",
            "  warnings.warn(\n",
            "/usr/local/lib/python3.11/dist-packages/sklearn/linear_model/_sag.py:350: ConvergenceWarning: The max_iter was reached which means the coef_ did not converge\n",
            "  warnings.warn(\n",
            "/usr/local/lib/python3.11/dist-packages/sklearn/linear_model/_sag.py:350: ConvergenceWarning: The max_iter was reached which means the coef_ did not converge\n",
            "  warnings.warn(\n",
            "/usr/local/lib/python3.11/dist-packages/sklearn/linear_model/_sag.py:350: ConvergenceWarning: The max_iter was reached which means the coef_ did not converge\n",
            "  warnings.warn(\n",
            "/usr/local/lib/python3.11/dist-packages/sklearn/linear_model/_sag.py:350: ConvergenceWarning: The max_iter was reached which means the coef_ did not converge\n",
            "  warnings.warn(\n"
          ]
        }
      ],
      "source": [
        "# Implement hyperparameter tuning\n",
        "# Example using GridSearchCV with a DecisionTreeClassifier\n",
        "\n",
        "# param_grid = {'max_depth': [2, 4, 6, 8]}\n",
        "# grid_search = GridSearchCV(DecisionTreeClassifier(), param_grid, cv=5)\n",
        "# grid_search.fit(X_train, y_train)\n",
        "\n",
        "param_grid = {\n",
        "    'C': [0.1, 1, 10],  # Regularization strength\n",
        "    'penalty': ['l1', 'l2'],  # Regularization type\n",
        "    'solver': ['liblinear', 'saga']  # Algorithm to use in the optimization problem\n",
        "}\n",
        "\n",
        "# For Grid Search\n",
        "grid_search = GridSearchCV(estimator=LogisticRegression(), param_grid=param_grid, cv=5, scoring='accuracy')\n",
        "grid_search.fit(X_train, y_train)\n",
        "\n",
        "# For Random Search\n",
        "random_search = RandomizedSearchCV(estimator=LogisticRegression(), param_distributions=param_grid, n_iter=10, cv=5, scoring='accuracy')\n",
        "random_search.fit(X_train, y_train)\n",
        "\n",
        "\n",
        "best_params = grid_search.best_params_  # or random_search.best_params_\n",
        "best_model = grid_search.best_estimator_  # or random_search.best_estimator_\n",
        "\n"
      ]
    },
    {
      "cell_type": "code",
      "source": [
        "!pip install keras-tuner --upgrade\n",
        "\n",
        "import keras_tuner as kt\n",
        "\n",
        "def model_builder(hp):\n",
        "    model = Sequential()\n",
        "    model.add(Dense(units=hp.Int('units', min_value=32, max_value=512, step=32),\n",
        "                    activation='relu', input_dim=X_train_split_dense.shape[1]))\n",
        "    model.add(Dense(1, activation='sigmoid'))\n",
        "\n",
        "    # Tune the learning rate for the optimizer\n",
        "    # Choose an optimal value from 0.01, 0.001, or 0.0001\n",
        "    hp_learning_rate = hp.Choice('learning_rate', values=[1e-2, 1e-3, 1e-4])\n",
        "\n",
        "    model.compile(optimizer=Adam(learning_rate=hp_learning_rate),\n",
        "                  loss='binary_crossentropy',\n",
        "                  metrics=['accuracy'])\n",
        "\n",
        "    return model\n",
        "\n",
        "tuner = kt.Hyperband(model_builder,\n",
        "                     objective='val_accuracy',\n",
        "                     max_epochs=10,\n",
        "                     factor=3,\n",
        "                     directory='my_dir',\n",
        "                     project_name='intro_to_kt')\n",
        "\n",
        "tuner.search(X_train_split_dense, y_train_split, epochs=10, validation_data=(X_val_dense, y_val))\n",
        "\n",
        "best_hps=tuner.get_best_hyperparameters(num_trials=1)[0]\n",
        "model = tuner.hypermodel.build(best_hps)"
      ],
      "metadata": {
        "colab": {
          "base_uri": "https://localhost:8080/"
        },
        "id": "UlBsqiVttcrz",
        "outputId": "cc765c47-032e-4270-9eac-f2e6146a9227"
      },
      "execution_count": null,
      "outputs": [
        {
          "output_type": "stream",
          "name": "stdout",
          "text": [
            "Trial 30 Complete [00h 00m 32s]\n",
            "val_accuracy: 0.9610678553581238\n",
            "\n",
            "Best val_accuracy So Far: 0.9766407012939453\n",
            "Total elapsed time: 00h 07m 50s\n"
          ]
        }
      ]
    },
    {
      "cell_type": "markdown",
      "metadata": {
        "id": "S7uI28D5h2CQ"
      },
      "source": [
        "## Implementation\n",
        "\n",
        "[Implement the final model(s) you've selected based on the above steps.]\n"
      ]
    },
    {
      "cell_type": "code",
      "execution_count": null,
      "metadata": {
        "id": "JA1ZIabch2CR",
        "colab": {
          "base_uri": "https://localhost:8080/"
        },
        "outputId": "8d02f129-4b41-437a-a1b5-c473bc9af0fb"
      },
      "outputs": [
        {
          "output_type": "stream",
          "name": "stderr",
          "text": [
            "/usr/local/lib/python3.11/dist-packages/keras/src/layers/core/dense.py:87: UserWarning: Do not pass an `input_shape`/`input_dim` argument to a layer. When using Sequential models, prefer using an `Input(shape)` object as the first layer in the model instead.\n",
            "  super().__init__(activity_regularizer=activity_regularizer, **kwargs)\n"
          ]
        },
        {
          "output_type": "stream",
          "name": "stdout",
          "text": [
            "Epoch 1/10\n",
            "\u001b[1m113/113\u001b[0m \u001b[32m━━━━━━━━━━━━━━━━━━━━\u001b[0m\u001b[37m\u001b[0m \u001b[1m5s\u001b[0m 28ms/step - accuracy: 0.8784 - loss: 0.3445 - val_accuracy: 0.9611 - val_loss: 0.0962\n",
            "Epoch 2/10\n",
            "\u001b[1m113/113\u001b[0m \u001b[32m━━━━━━━━━━━━━━━━━━━━\u001b[0m\u001b[37m\u001b[0m \u001b[1m2s\u001b[0m 11ms/step - accuracy: 0.9965 - loss: 0.0108 - val_accuracy: 0.9555 - val_loss: 0.0998\n",
            "Epoch 3/10\n",
            "\u001b[1m113/113\u001b[0m \u001b[32m━━━━━━━━━━━━━━━━━━━━\u001b[0m\u001b[37m\u001b[0m \u001b[1m1s\u001b[0m 11ms/step - accuracy: 1.0000 - loss: 0.0014 - val_accuracy: 0.9533 - val_loss: 0.1018\n",
            "Epoch 4/10\n",
            "\u001b[1m113/113\u001b[0m \u001b[32m━━━━━━━━━━━━━━━━━━━━\u001b[0m\u001b[37m\u001b[0m \u001b[1m3s\u001b[0m 13ms/step - accuracy: 1.0000 - loss: 4.7432e-04 - val_accuracy: 0.9533 - val_loss: 0.1023\n",
            "Epoch 5/10\n",
            "\u001b[1m113/113\u001b[0m \u001b[32m━━━━━━━━━━━━━━━━━━━━\u001b[0m\u001b[37m\u001b[0m \u001b[1m2s\u001b[0m 13ms/step - accuracy: 1.0000 - loss: 2.8188e-04 - val_accuracy: 0.9533 - val_loss: 0.1031\n",
            "Epoch 6/10\n",
            "\u001b[1m113/113\u001b[0m \u001b[32m━━━━━━━━━━━━━━━━━━━━\u001b[0m\u001b[37m\u001b[0m \u001b[1m1s\u001b[0m 11ms/step - accuracy: 1.0000 - loss: 1.9343e-04 - val_accuracy: 0.9533 - val_loss: 0.1046\n",
            "Epoch 7/10\n",
            "\u001b[1m113/113\u001b[0m \u001b[32m━━━━━━━━━━━━━━━━━━━━\u001b[0m\u001b[37m\u001b[0m \u001b[1m1s\u001b[0m 11ms/step - accuracy: 1.0000 - loss: 1.4904e-04 - val_accuracy: 0.9533 - val_loss: 0.1055\n",
            "Epoch 8/10\n",
            "\u001b[1m113/113\u001b[0m \u001b[32m━━━━━━━━━━━━━━━━━━━━\u001b[0m\u001b[37m\u001b[0m \u001b[1m1s\u001b[0m 10ms/step - accuracy: 1.0000 - loss: 9.8915e-05 - val_accuracy: 0.9533 - val_loss: 0.1064\n",
            "Epoch 9/10\n",
            "\u001b[1m113/113\u001b[0m \u001b[32m━━━━━━━━━━━━━━━━━━━━\u001b[0m\u001b[37m\u001b[0m \u001b[1m1s\u001b[0m 11ms/step - accuracy: 1.0000 - loss: 7.9125e-05 - val_accuracy: 0.9533 - val_loss: 0.1073\n",
            "Epoch 10/10\n",
            "\u001b[1m113/113\u001b[0m \u001b[32m━━━━━━━━━━━━━━━━━━━━\u001b[0m\u001b[37m\u001b[0m \u001b[1m1s\u001b[0m 11ms/step - accuracy: 1.0000 - loss: 6.9228e-05 - val_accuracy: 0.9533 - val_loss: 0.1081\n"
          ]
        },
        {
          "output_type": "execute_result",
          "data": {
            "text/plain": [
              "<keras.src.callbacks.history.History at 0x79d0f68ea6d0>"
            ]
          },
          "metadata": {},
          "execution_count": 44
        }
      ],
      "source": [
        "# Implement the final model(s)\n",
        "# Example: model = YourChosenModel(best_hyperparameters)\n",
        "# model.fit(X_train, y_train)\n",
        "\n",
        "def create_model():\n",
        "    nn_model = Sequential([\n",
        "        Dense(64, input_dim=X_train.shape[1], activation='relu'),\n",
        "        Dense(32, activation='relu'),\n",
        "        Dense(1, activation='sigmoid')\n",
        "    ])\n",
        "    return nn_model\n",
        "nn_model=create_model()\n",
        "nn_model.compile(optimizer='adam', loss='binary_crossentropy', metrics=['accuracy'])\n",
        "nn_model.fit(X_train_split_dense, y_train_split, epochs=10, batch_size=32, validation_data=(X_val_dense, y_val))\n",
        "\n",
        "# We are constructing a simple neural network model using the Sequential API from Keras. The model consists of three layers:\n",
        "# two hidden layers with ReLU activation and an output layer with sigmoid activation.\n",
        "#2 nn_model = Sequential([\n",
        "#2    Dense(64, input_dim=X_train.shape[1], activation='relu'),  # The first hidden layer with 64 neurons, using ReLU activation, and input dimension equal to the number of features.\n",
        "#2    Dense(32, activation='relu'),  # The second hidden layer with 32 neurons and ReLU activation.\n",
        "#2    Dense(1, activation='sigmoid')  # The output layer with a single neuron and sigmoid activation for binary classification.\n",
        "#2])\n",
        "\n",
        "#1 nn_model.compile(optimizer='adam', loss='binary_crossentropy', metrics=['accuracy'])\n",
        "# Compile the neural network model using the Adam optimizer, which adjusts the learning rate during training.\n",
        "# The loss function is 'binary_crossentropy', appropriate for binary classification tasks.\n",
        "# We are also tracking 'accuracy' as a metric to evaluate the model's performance during training.\n",
        "\n",
        "#nn_model.fit(X_train_split_dense, y_train_split, epochs=10, batch_size=32, validation_data=(X_val_dense, y_val))\n",
        "# Train the neural network model using the dense training data (X_train_split_dense) and labels (y_train_split).\n",
        "# The training runs for 10 epochs, with a batch size of 32, meaning the model updates weights after every 32 samples.\n",
        "# We are also validating the model's performance after each epoch using the validation data (X_val_dense, y_val).\n"
      ]
    },
    {
      "cell_type": "code",
      "source": [
        "nn_model.evaluate(X_val_dense, y_val)"
      ],
      "metadata": {
        "colab": {
          "base_uri": "https://localhost:8080/"
        },
        "id": "xs6M3knztKfL",
        "outputId": "fe5e29ad-be1c-4a27-e1f6-b9e924e3bbfa"
      },
      "execution_count": null,
      "outputs": [
        {
          "output_type": "stream",
          "name": "stdout",
          "text": [
            "\u001b[1m8/8\u001b[0m \u001b[32m━━━━━━━━━━━━━━━━━━━━\u001b[0m\u001b[37m\u001b[0m \u001b[1m0s\u001b[0m 6ms/step - accuracy: 0.9476 - loss: 0.1015 \n"
          ]
        },
        {
          "output_type": "execute_result",
          "data": {
            "text/plain": [
              "[0.14175210893154144, 0.9375]"
            ]
          },
          "metadata": {},
          "execution_count": 29
        }
      ]
    },
    {
      "cell_type": "code",
      "source": [
        "y_pred_nn = nn_model.predict(X_val_dense)\n"
      ],
      "metadata": {
        "colab": {
          "base_uri": "https://localhost:8080/"
        },
        "id": "N546h3OjWjzl",
        "outputId": "b0ec00e7-cf19-4eea-fa67-a01c21e55fdb"
      },
      "execution_count": null,
      "outputs": [
        {
          "output_type": "stream",
          "name": "stdout",
          "text": [
            "\u001b[1m8/8\u001b[0m \u001b[32m━━━━━━━━━━━━━━━━━━━━\u001b[0m\u001b[37m\u001b[0m \u001b[1m0s\u001b[0m 24ms/step\n"
          ]
        }
      ]
    },
    {
      "cell_type": "code",
      "source": [
        "results = {}  # Initialize an empty dictionary to store the results of different models.\n",
        "\n",
        "# evaluation\n",
        "y_pred_nn_binary = (y_pred_nn > 0.5).astype(int)\n",
        "accuracy = accuracy_score(y_val, y_pred_nn_binary)  # Calculate the accuracy of the model by comparing the predicted labels (y_pred) to the actual labels (y_test).\n",
        "\n",
        "# results\n",
        "results['CNN'] = accuracy  # Store the accuracy of the logistic regression model in the 'results' dictionary under the key 'Logistic_Regression'.\n",
        "report1 = classification_report(y_val, y_pred_nn_binary)  # Generate a classification report that includes precision, recall, F1-score, and support for each class.\n",
        "\n"
      ],
      "metadata": {
        "id": "7VxPNbl5nYeG"
      },
      "execution_count": null,
      "outputs": []
    },
    {
      "cell_type": "code",
      "source": [
        "#!pip install scikeras\n",
        "#!pip uninstall -y scikit-learn\n",
        "#!pip install scikit-learn==1.3.1"
      ],
      "metadata": {
        "colab": {
          "base_uri": "https://localhost:8080/"
        },
        "id": "E4uw16MQqkSi",
        "outputId": "167ba693-fa9a-43d6-d089-bc492426a462",
        "collapsed": true
      },
      "execution_count": null,
      "outputs": [
        {
          "output_type": "stream",
          "name": "stdout",
          "text": [
            "Collecting scikeras\n",
            "  Downloading scikeras-0.13.0-py3-none-any.whl.metadata (3.1 kB)\n",
            "Requirement already satisfied: keras>=3.2.0 in /usr/local/lib/python3.11/dist-packages (from scikeras) (3.8.0)\n",
            "Requirement already satisfied: scikit-learn>=1.4.2 in /usr/local/lib/python3.11/dist-packages (from scikeras) (1.6.1)\n",
            "Requirement already satisfied: absl-py in /usr/local/lib/python3.11/dist-packages (from keras>=3.2.0->scikeras) (1.4.0)\n",
            "Requirement already satisfied: numpy in /usr/local/lib/python3.11/dist-packages (from keras>=3.2.0->scikeras) (1.26.4)\n",
            "Requirement already satisfied: rich in /usr/local/lib/python3.11/dist-packages (from keras>=3.2.0->scikeras) (13.9.4)\n",
            "Requirement already satisfied: namex in /usr/local/lib/python3.11/dist-packages (from keras>=3.2.0->scikeras) (0.0.8)\n",
            "Requirement already satisfied: h5py in /usr/local/lib/python3.11/dist-packages (from keras>=3.2.0->scikeras) (3.12.1)\n",
            "Requirement already satisfied: optree in /usr/local/lib/python3.11/dist-packages (from keras>=3.2.0->scikeras) (0.14.0)\n",
            "Requirement already satisfied: ml-dtypes in /usr/local/lib/python3.11/dist-packages (from keras>=3.2.0->scikeras) (0.4.1)\n",
            "Requirement already satisfied: packaging in /usr/local/lib/python3.11/dist-packages (from keras>=3.2.0->scikeras) (24.2)\n",
            "Requirement already satisfied: scipy>=1.6.0 in /usr/local/lib/python3.11/dist-packages (from scikit-learn>=1.4.2->scikeras) (1.13.1)\n",
            "Requirement already satisfied: joblib>=1.2.0 in /usr/local/lib/python3.11/dist-packages (from scikit-learn>=1.4.2->scikeras) (1.4.2)\n",
            "Requirement already satisfied: threadpoolctl>=3.1.0 in /usr/local/lib/python3.11/dist-packages (from scikit-learn>=1.4.2->scikeras) (3.5.0)\n",
            "Requirement already satisfied: typing-extensions>=4.5.0 in /usr/local/lib/python3.11/dist-packages (from optree->keras>=3.2.0->scikeras) (4.12.2)\n",
            "Requirement already satisfied: markdown-it-py>=2.2.0 in /usr/local/lib/python3.11/dist-packages (from rich->keras>=3.2.0->scikeras) (3.0.0)\n",
            "Requirement already satisfied: pygments<3.0.0,>=2.13.0 in /usr/local/lib/python3.11/dist-packages (from rich->keras>=3.2.0->scikeras) (2.18.0)\n",
            "Requirement already satisfied: mdurl~=0.1 in /usr/local/lib/python3.11/dist-packages (from markdown-it-py>=2.2.0->rich->keras>=3.2.0->scikeras) (0.1.2)\n",
            "Downloading scikeras-0.13.0-py3-none-any.whl (26 kB)\n",
            "Installing collected packages: scikeras\n",
            "Successfully installed scikeras-0.13.0\n"
          ]
        }
      ]
    },
    {
      "cell_type": "code",
      "source": [
        "from IPython import get_ipython\n",
        "from IPython.display import display\n",
        "# %% [markdown]\n",
        "# # Model Definition and Evaluation\n",
        "# ## Table of Contents\n",
        "# 1. [Model Selection](#model-selection)\n",
        "# 2. [Feature Engineering](#feature-engineering)\n",
        "# 3. [Hyperparameter Tuning](#hyperparameter-tuning)\n",
        "# 4. [Implementation](#implementation)\n",
        "# 5. [Evaluation Metrics](#evaluation-metrics)\n",
        "# 6. [Comparative Analysis](#comparative-analysis)\n",
        "#\n",
        "# %%\n",
        "# Import necessary libraries\n",
        "import pandas as pd  # Import pandas for data manipulation and analysis.\n",
        "import matplotlib.pyplot as plt  # Import matplotlib for plotting graphs and visualizations.\n",
        "from sklearn.feature_extraction.text import CountVectorizer  # Import CountVectorizer for converting text to numerical data.\n",
        "from sklearn.utils import shuffle  # Import shuffle to randomize the order of data.\n",
        "from scipy.sparse import hstack  # Import hstack to combine sparse matrices.\n",
        "from sklearn.model_selection import train_test_split, cross_val_predict, cross_val_score  # Import methods for model validation and splitting data.\n",
        "from sklearn.metrics import accuracy_score, classification_report  # Import metrics to evaluate model performance.\n",
        "import tensorflow as tf  # Import TensorFlow for deep learning tasks.\n",
        "from tensorflow.keras.models import Sequential  # Import Sequential for building neural network models layer by layer.\n",
        "from tensorflow.keras.layers import Dense  # Import Dense to add fully connected layers to the model.\n",
        "from tensorflow.keras.optimizers import Adam  # Import Adam optimizer for training the model.\n",
        "import numpy as np  # Import NumPy for numerical operations and array manipulation.\n",
        "import gzip  # Import gzip for reading and writing compressed files.\n",
        "from sklearn.linear_model import LogisticRegression  # Import LogisticRegression for classification tasks.\n",
        "from sklearn.metrics import make_scorer, accuracy_score\n",
        "#Import the correct version of KerasClassifier\n",
        "from scikeras.wrappers import KerasClassifier  # Import KerasClassifier\n"
      ],
      "metadata": {
        "id": "O30uxZN8btJg"
      },
      "execution_count": null,
      "outputs": []
    },
    {
      "cell_type": "code",
      "source": [
        "# Wrap your Keras model with KerasClassifier\n",
        "# Define a function to create your Keras model\n",
        "nn_model_wrapped = KerasClassifier(model=nn_model, epochs=10, batch_size=32, verbose=0)\n",
        "\n",
        "\n",
        "scoring = make_scorer(accuracy_score)\n",
        "\n",
        "cv_scores1 = cross_val_score(nn_model_wrapped, X.toarray(), y, cv=10, scoring=scoring)  # Convert X to dense array# Perform 10-fold cross-validation on the logistic regression model using the full dataset (X, y).\n",
        "# The 'cv=10' parameter indicates that the data is split into 10 parts, and the model is trained and tested 10 times, each time on a different part.\n",
        "# The result is an array of accuracy scores from each of the 10 folds, stored in 'cv_scores'.\n",
        "\n",
        "mean_cv_score1 = np.mean(cv_scores1)  # Calculate the mean accuracy score from the cross-validation results.\n",
        "std_cv_score1 = np.std(cv_scores1)  # Calculate the standard deviation of the accuracy scores from the cross-validation.\n",
        "standard_error1 = std_cv_score1 / np.sqrt(len(cv_scores1))  # Compute the standard error of the mean, which indicates the precision of the cross-validation results.\n",
        "\n"
      ],
      "metadata": {
        "id": "Re-CcktGXK_1"
      },
      "execution_count": null,
      "outputs": []
    },
    {
      "cell_type": "code",
      "source": [
        "# Logistic Regression\n",
        "# training\n",
        "# results = {}  # Initialize an empty dictionary to store the results of different models.\n",
        "model = LogisticRegression()  # Create an instance of the LogisticRegression model.\n",
        "model.fit(X_train, y_train)  # Train the logistic regression model using the training data (X_train and y_train).\n",
        "\n",
        "# Predictions\n",
        "y_pred = model.predict(X_test)  # Use the trained logistic regression model to predict labels for the test data (X_test).\n",
        "\n",
        "# evaluation\n",
        "accuracy = accuracy_score(y_test, y_pred)  # Calculate the accuracy of the model by comparing the predicted labels (y_pred) to the actual labels (y_test).\n",
        "\n",
        "\n",
        "cv_scores2 = cross_val_score(model, X, y, cv=10)\n",
        "# Perform 10-fold cross-validation on the logistic regression model using the full dataset (X, y).\n",
        "# The 'cv=10' parameter indicates that the data is split into 10 parts, and the model is trained and tested 10 times, each time on a different part.\n",
        "# The result is an array of accuracy scores from each of the 10 folds, stored in 'cv_scores'.\n",
        "\n",
        "#results\n",
        "results['Logistic_Regression'] = accuracy  # Store the accuracy of the logistic regression model in the 'results' dictionary under the key 'Logistic_Regression'.\n",
        "report2 = classification_report(y_test, y_pred)  # Generate a classification report that includes precision, recall, F1-score, and support for each class.\n",
        "\n",
        "mean_cv_score2 = np.mean(cv_scores2)  # Calculate the mean accuracy score from the cross-validation results.\n",
        "std_cv_score2 = np.std(cv_scores2)  # Calculate the standard deviation of the accuracy scores from the cross-validation.\n",
        "standard_error2 = std_cv_score2 / np.sqrt(len(cv_scores2))  # Compute the standard error of the mean, which indicates the precision of the cross-validation results.\n"
      ],
      "metadata": {
        "id": "-qX9ONl5O_qR"
      },
      "execution_count": null,
      "outputs": []
    },
    {
      "cell_type": "markdown",
      "metadata": {
        "id": "1UZ9snB8h2CU"
      },
      "source": [
        "## Evaluation Metrics\n",
        "\n",
        "[Clearly specify which metrics you'll use to evaluate the model performance, and why you've chosen these metrics.]\n"
      ]
    },
    {
      "cell_type": "code",
      "execution_count": null,
      "metadata": {
        "id": "sUlCHnxHh2CW",
        "colab": {
          "base_uri": "https://localhost:8080/"
        },
        "outputId": "575283e2-1927-477a-a062-81029648f451"
      },
      "outputs": [
        {
          "output_type": "stream",
          "name": "stdout",
          "text": [
            "CNN Accuracy: 0.9375\n",
            "Classification Report:\n",
            "              precision    recall  f1-score   support\n",
            "\n",
            "           0       0.95      0.96      0.95       148\n",
            "           1       0.96      0.95      0.95       152\n",
            "\n",
            "    accuracy                           0.95       300\n",
            "   macro avg       0.95      0.95      0.95       300\n",
            "weighted avg       0.95      0.95      0.95       300\n",
            "\n",
            "Mean Cross-Validation Score: 0.9393\n",
            "Standard Error of Cross-Validation Score: 0.0075\n"
          ]
        }
      ],
      "source": [
        "# Evaluate the model using your chosen metrics\n",
        "# Example for classification\n",
        "# y_pred = model.predict(X_test)\n",
        "# print(classification_report(y_test, y_pred))\n",
        "\n",
        "# Example for regression\n",
        "# mse = mean_squared_error(y_test, y_pred)\n",
        "\n",
        "# Your evaluation code here\n",
        "print(f\"CNN Accuracy: {results['CNN']}\")  # Print the accuracy of the model, formatted for easy readability.\n",
        "print(f\"Classification Report:\\n{report2}\")  # Print the classification report to evaluate the model's performance.\n",
        "\n",
        "print(f\"Mean Cross-Validation Score: {mean_cv_score2:.4f}\")  # Print the mean cross-validation accuracy score, formatted to four decimal places.\n",
        "print(f\"Standard Error of Cross-Validation Score: {standard_error2:.4f}\")  # Print the standard error of the cross-validation score, also formatted to four decimal places.\n"
      ]
    },
    {
      "cell_type": "markdown",
      "metadata": {
        "id": "-AS2B1gMh2CX"
      },
      "source": [
        "## Comparative Analysis\n",
        "\n",
        "[Compare the performance of your model(s) against the baseline model. Discuss any improvements or setbacks and the reasons behind them.]\n"
      ]
    },
    {
      "cell_type": "code",
      "execution_count": null,
      "metadata": {
        "id": "45iuL-AMh2CY",
        "colab": {
          "base_uri": "https://localhost:8080/"
        },
        "outputId": "88317943-442b-4781-a39a-3559d14303d5"
      },
      "outputs": [
        {
          "output_type": "stream",
          "name": "stdout",
          "text": [
            "Baseline Model Accuracy\n",
            "Logistic_Regression Accuracy: 0.9533333333333334\n",
            "Mean Cross-Validation Score: 0.9733\n",
            "Standard Error of Cross-Validation Score: 0.0035\n",
            "new_model_accuracy\n",
            "CNN Accuracy: 0.9375\n",
            "Mean Cross-Validation Score: 0.9393\n",
            "Standard Error of Cross-Validation Score: 0.0075\n"
          ]
        }
      ],
      "source": [
        "# Comparative Analysis code (if applicable)\n",
        "# Example: comparing accuracy of the baseline model and the new model\n",
        "# print(f\"Baseline Model Accuracy: {baseline_accuracy}, New Model Accuracy: {new_model_accuracy}\")\n",
        "\n",
        "print(\"Baseline Model Accuracy\")\n",
        "# results\n",
        "print(f\"Logistic_Regression Accuracy: {results['Logistic_Regression']}\")  # Print the accuracy of the model, formatted for easy readability.\n",
        "#print(f\"Classification Report:\\n{report1}\")  # Print the classification report to evaluate the model's performance.\n",
        "\n",
        "print(f\"Mean Cross-Validation Score: {mean_cv_score1:.4f}\")  # Print the mean cross-validation accuracy score, formatted to four decimal places.\n",
        "print(f\"Standard Error of Cross-Validation Score: {standard_error1:.4f}\")  # Print the standard error of the cross-validation score, also formatted to four decimal places.\n",
        "\n",
        "\n",
        "print(\"new_model_accuracy\")\n",
        "# results\n",
        "print(f\"CNN Accuracy: {results['CNN']}\")  # Print the accuracy of the model, formatted for easy readability.\n",
        "#print(f\"Classification Report:\\n{report2}\")  # Print the classification report to evaluate the model's performance.\n",
        "\n",
        "print(f\"Mean Cross-Validation Score: {mean_cv_score2:.4f}\")  # Print the mean cross-validation accuracy score, formatted to four decimal places.\n",
        "print(f\"Standard Error of Cross-Validation Score: {standard_error2:.4f}\")  # Print the standard error of the cross-validation score, also formatted to four decimal places.\n",
        "\n"
      ]
    }
  ],
  "metadata": {
    "colab": {
      "provenance": [],
      "gpuType": "T4"
    },
    "kernelspec": {
      "display_name": "Python 3",
      "name": "python3"
    },
    "language_info": {
      "name": "python"
    },
    "accelerator": "GPU"
  },
  "nbformat": 4,
  "nbformat_minor": 0
}