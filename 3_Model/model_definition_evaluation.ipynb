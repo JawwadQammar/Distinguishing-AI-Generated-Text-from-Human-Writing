{
  "cells": [
    {
      "cell_type": "markdown",
      "metadata": {
        "id": "VggvGis5h2B-"
      },
      "source": [
        "# Model Definition and Evaluation\n",
        "## Table of Contents\n",
        "1. [Model Selection](#model-selection)\n",
        "2. [Feature Engineering](#feature-engineering)\n",
        "3. [Hyperparameter Tuning](#hyperparameter-tuning)\n",
        "4. [Implementation](#implementation)\n",
        "5. [Evaluation Metrics](#evaluation-metrics)\n",
        "6. [Comparative Analysis](#comparative-analysis)\n"
      ]
    },
    {
      "cell_type": "code",
      "execution_count": 2,
      "metadata": {
        "id": "KQtvB9Qeh2CF"
      },
      "outputs": [],
      "source": [
        "# Import necessary libraries\n",
        "import pandas as pd  # Import pandas for data manipulation and analysis.\n",
        "import matplotlib.pyplot as plt  # Import matplotlib for plotting graphs and visualizations.\n",
        "from sklearn.feature_extraction.text import CountVectorizer  # Import CountVectorizer for converting text to numerical data.\n",
        "from sklearn.utils import shuffle  # Import shuffle to randomize the order of data.\n",
        "from scipy.sparse import hstack  # Import hstack to combine sparse matrices.\n",
        "from sklearn.model_selection import train_test_split, cross_val_predict, cross_val_score  # Import methods for model validation and splitting data.\n",
        "from sklearn.metrics import accuracy_score, classification_report  # Import metrics to evaluate model performance.\n",
        "import tensorflow as tf  # Import TensorFlow for deep learning tasks.\n",
        "from tensorflow.keras.models import Sequential  # Import Sequential for building neural network models layer by layer.\n",
        "from tensorflow.keras.layers import Dense  # Import Dense to add fully connected layers to the model.\n",
        "from tensorflow.keras.optimizers import Adam  # Import Adam optimizer for training the model.\n",
        "import numpy as np  # Import NumPy for numerical operations and array manipulation.\n",
        "import gzip  # Import gzip for reading and writing compressed files.\n",
        "from sklearn.linear_model import LogisticRegression  # Import LogisticRegression for classification tasks.\n"
      ]
    },
    {
      "cell_type": "markdown",
      "metadata": {
        "id": "HsX7TMkzh2CJ"
      },
      "source": [
        "## Model Selection\n",
        "\n",
        "[Discuss the type(s) of models you consider for this task, and justify the selection.]\n",
        "\n"
      ]
    },
    {
      "cell_type": "markdown",
      "metadata": {
        "id": "O8Cbop15h2CK"
      },
      "source": [
        "## Feature Engineering\n",
        "\n",
        "[Describe any additional feature engineering you've performed beyond what was done for the baseline model.]\n"
      ]
    },
    {
      "cell_type": "code",
      "execution_count": 3,
      "metadata": {
        "id": "ptkRUIlwh2CM"
      },
      "outputs": [],
      "source": [
        "# Load the dataset\n",
        "# Replace 'your_dataset.csv' with the path to your actual dataset\n",
        "# Load the dataset\n",
        "# Replace 'your_dataset.csv' with the path to your actual dataset\n",
        "df = pd.read_csv('/content/Combined-Text-Dataset.csv')\n",
        "\n",
        "# Feature selection\n",
        "# Example: Selecting only two features for a simple baseline model\n",
        "# X = df[['feature1', 'feature2']]\n",
        "# y = df['target_variable']\n",
        "\n",
        "# Splitting the dataset\n",
        "# X_train, X_test, y_train, y_test = train_test_split(X, y, test_size=0.2, random_state=42)\n",
        "\n",
        "#We are initializing separate `CountVectorizer` objects for the `abstract`, `title`, and `keyword` columns. These vectorizers will convert the text data into numerical features suitable for machine learning models.\n",
        "vectorizer_abstract = CountVectorizer()  # Initialize a CountVectorizer for the 'abstract' column to convert text data into a matrix of token counts.\n",
        "vectorizer_title = CountVectorizer()  # Initialize a CountVectorizer for the 'title' column for the same purpose.\n",
        "vectorizer_keyword = CountVectorizer()  # Initialize a CountVectorizer for the 'keyword' column to convert keyword text data into numerical features.\n",
        "\n",
        "\n",
        "## Transforming Text Data into Numerical Features\n",
        "X_abstract = vectorizer_abstract.fit_transform(df['abstract'])  # Fit the CountVectorizer on the 'abstract' column and transform the text data into a numerical feature matrix.\n",
        "X_title = vectorizer_title.fit_transform(df['title'])  # Fit the CountVectorizer on the 'title' column and transform the text data into a numerical feature matrix.\n",
        "X_keyword = vectorizer_keyword.fit_transform(df['keyword'])  # Fit the CountVectorizer on the 'keyword' column and transform the text data into a numerical feature matrix.\n",
        "\n",
        "# Combine the feature matrices from 'abstract', 'title', and 'keyword' into a single sparse matrix using horizontal stacking.\n",
        "X = hstack([X_abstract, X_title, X_keyword])\n",
        "\n",
        "# Define the target variable 'y' as the 'is_human' column, which contains labels for human-written (1) and AI-generated (0) text.\n",
        "y = df['is_human']\n",
        "\n",
        "# Splitting the Data into Training and Testing Sets\n",
        "X_train, X_test, y_train, y_test = train_test_split(X, y, test_size=0.2, random_state=42)\n",
        "# Split the data into training and testing sets.\n",
        "# 'test_size=0.2' means 20% of the data will be used for testing, while 80% will be used for training.\n",
        "# 'random_state=42' ensures reproducibility by fixing the randomness in the split.\n",
        "\n",
        "X_train_split, X_val, y_train_split, y_val = train_test_split(X_train, y_train, test_size=0.2, random_state=42)\n",
        "# Split the original training data into a smaller training set (X_train_split, y_train_split) and a validation set (X_val, y_val).\n",
        "# 'test_size=0.2' means 20% of the original training data is set aside for validation.\n",
        "# 'random_state=42' ensures that the split is reproducible.\n",
        "\n",
        "X_train_split_dense = X_train_split.toarray()  # Convert the sparse matrix of the training split into a dense NumPy array.\n",
        "X_val_dense = X_val.toarray()  # Convert the sparse matrix of the validation set into a dense NumPy array."
      ]
    },
    {
      "cell_type": "markdown",
      "metadata": {
        "id": "v4B2z1Dkh2CO"
      },
      "source": [
        "## Hyperparameter Tuning\n",
        "\n",
        "[Discuss any hyperparameter tuning methods you've applied, such as Grid Search or Random Search, and the rationale behind them.]\n"
      ]
    },
    {
      "cell_type": "code",
      "execution_count": 10,
      "metadata": {
        "id": "bFIcnMH8h2CP"
      },
      "outputs": [],
      "source": [
        "# Implement hyperparameter tuning\n",
        "# Example using GridSearchCV with a DecisionTreeClassifier\n",
        "\n",
        "# param_grid = {'max_depth': [2, 4, 6, 8]}\n",
        "# grid_search = GridSearchCV(DecisionTreeClassifier(), param_grid, cv=5)\n",
        "# grid_search.fit(X_train, y_train)\n",
        "\n",
        "\n"
      ]
    },
    {
      "cell_type": "markdown",
      "metadata": {
        "id": "S7uI28D5h2CQ"
      },
      "source": [
        "## Implementation\n",
        "\n",
        "[Implement the final model(s) you've selected based on the above steps.]\n"
      ]
    },
    {
      "cell_type": "code",
      "execution_count": 4,
      "metadata": {
        "id": "JA1ZIabch2CR",
        "colab": {
          "base_uri": "https://localhost:8080/"
        },
        "outputId": "7b5794e2-a770-4a46-b6df-83129049c2a9"
      },
      "outputs": [
        {
          "output_type": "stream",
          "name": "stderr",
          "text": [
            "/usr/local/lib/python3.11/dist-packages/keras/src/layers/core/dense.py:87: UserWarning: Do not pass an `input_shape`/`input_dim` argument to a layer. When using Sequential models, prefer using an `Input(shape)` object as the first layer in the model instead.\n",
            "  super().__init__(activity_regularizer=activity_regularizer, **kwargs)\n"
          ]
        },
        {
          "output_type": "stream",
          "name": "stdout",
          "text": [
            "Epoch 1/10\n",
            "\u001b[1m207/207\u001b[0m \u001b[32m━━━━━━━━━━━━━━━━━━━━\u001b[0m\u001b[37m\u001b[0m \u001b[1m20s\u001b[0m 86ms/step - accuracy: 0.8945 - loss: 0.2808 - val_accuracy: 0.9614 - val_loss: 0.0989\n",
            "Epoch 2/10\n",
            "\u001b[1m207/207\u001b[0m \u001b[32m━━━━━━━━━━━━━━━━━━━━\u001b[0m\u001b[37m\u001b[0m \u001b[1m19s\u001b[0m 78ms/step - accuracy: 0.9970 - loss: 0.0091 - val_accuracy: 0.9595 - val_loss: 0.1084\n",
            "Epoch 3/10\n",
            "\u001b[1m207/207\u001b[0m \u001b[32m━━━━━━━━━━━━━━━━━━━━\u001b[0m\u001b[37m\u001b[0m \u001b[1m17s\u001b[0m 81ms/step - accuracy: 0.9997 - loss: 0.0018 - val_accuracy: 0.9607 - val_loss: 0.0992\n",
            "Epoch 4/10\n",
            "\u001b[1m207/207\u001b[0m \u001b[32m━━━━━━━━━━━━━━━━━━━━\u001b[0m\u001b[37m\u001b[0m \u001b[1m20s\u001b[0m 80ms/step - accuracy: 1.0000 - loss: 3.5228e-04 - val_accuracy: 0.9626 - val_loss: 0.1016\n",
            "Epoch 5/10\n",
            "\u001b[1m207/207\u001b[0m \u001b[32m━━━━━━━━━━━━━━━━━━━━\u001b[0m\u001b[37m\u001b[0m \u001b[1m21s\u001b[0m 80ms/step - accuracy: 1.0000 - loss: 2.0313e-04 - val_accuracy: 0.9632 - val_loss: 0.1029\n",
            "Epoch 6/10\n",
            "\u001b[1m207/207\u001b[0m \u001b[32m━━━━━━━━━━━━━━━━━━━━\u001b[0m\u001b[37m\u001b[0m \u001b[1m19s\u001b[0m 75ms/step - accuracy: 1.0000 - loss: 1.3504e-04 - val_accuracy: 0.9632 - val_loss: 0.1046\n",
            "Epoch 7/10\n",
            "\u001b[1m207/207\u001b[0m \u001b[32m━━━━━━━━━━━━━━━━━━━━\u001b[0m\u001b[37m\u001b[0m \u001b[1m21s\u001b[0m 78ms/step - accuracy: 1.0000 - loss: 1.0010e-04 - val_accuracy: 0.9632 - val_loss: 0.1057\n",
            "Epoch 8/10\n",
            "\u001b[1m207/207\u001b[0m \u001b[32m━━━━━━━━━━━━━━━━━━━━\u001b[0m\u001b[37m\u001b[0m \u001b[1m20s\u001b[0m 76ms/step - accuracy: 1.0000 - loss: 6.8513e-05 - val_accuracy: 0.9644 - val_loss: 0.1069\n",
            "Epoch 9/10\n",
            "\u001b[1m207/207\u001b[0m \u001b[32m━━━━━━━━━━━━━━━━━━━━\u001b[0m\u001b[37m\u001b[0m \u001b[1m16s\u001b[0m 76ms/step - accuracy: 1.0000 - loss: 5.5817e-05 - val_accuracy: 0.9644 - val_loss: 0.1081\n",
            "Epoch 10/10\n",
            "\u001b[1m207/207\u001b[0m \u001b[32m━━━━━━━━━━━━━━━━━━━━\u001b[0m\u001b[37m\u001b[0m \u001b[1m22s\u001b[0m 84ms/step - accuracy: 1.0000 - loss: 4.0389e-05 - val_accuracy: 0.9650 - val_loss: 0.1091\n"
          ]
        },
        {
          "output_type": "execute_result",
          "data": {
            "text/plain": [
              "<keras.src.callbacks.history.History at 0x7d3e07ff1650>"
            ]
          },
          "metadata": {},
          "execution_count": 4
        }
      ],
      "source": [
        "# Implement the final model(s)\n",
        "# Example: model = YourChosenModel(best_hyperparameters)\n",
        "# model.fit(X_train, y_train)\n",
        "\n",
        "# We are constructing a simple neural network model using the Sequential API from Keras. The model consists of three layers:\n",
        "# two hidden layers with ReLU activation and an output layer with sigmoid activation.\n",
        "nn_model = Sequential([\n",
        "    Dense(64, input_dim=X_train.shape[1], activation='relu'),  # The first hidden layer with 64 neurons, using ReLU activation, and input dimension equal to the number of features.\n",
        "    Dense(32, activation='relu'),  # The second hidden layer with 32 neurons and ReLU activation.\n",
        "    Dense(1, activation='sigmoid')  # The output layer with a single neuron and sigmoid activation for binary classification.\n",
        "])\n",
        "\n",
        "nn_model.compile(optimizer='adam', loss='binary_crossentropy', metrics=['accuracy'])\n",
        "# Compile the neural network model using the Adam optimizer, which adjusts the learning rate during training.\n",
        "# The loss function is 'binary_crossentropy', appropriate for binary classification tasks.\n",
        "# We are also tracking 'accuracy' as a metric to evaluate the model's performance during training.\n",
        "\n",
        "nn_model.fit(X_train_split_dense, y_train_split, epochs=10, batch_size=32, validation_data=(X_val_dense, y_val))\n",
        "# Train the neural network model using the dense training data (X_train_split_dense) and labels (y_train_split).\n",
        "# The training runs for 10 epochs, with a batch size of 32, meaning the model updates weights after every 32 samples.\n",
        "# We are also validating the model's performance after each epoch using the validation data (X_val_dense, y_val).\n"
      ]
    },
    {
      "cell_type": "code",
      "source": [
        "nn_model.evaluate(X_val_dense, y_val)"
      ],
      "metadata": {
        "colab": {
          "base_uri": "https://localhost:8080/"
        },
        "id": "xs6M3knztKfL",
        "outputId": "77791be9-525f-45a8-c57e-88790a283ff7"
      },
      "execution_count": 26,
      "outputs": [
        {
          "output_type": "stream",
          "name": "stdout",
          "text": [
            "\u001b[1m52/52\u001b[0m \u001b[32m━━━━━━━━━━━━━━━━━━━━\u001b[0m\u001b[37m\u001b[0m \u001b[1m2s\u001b[0m 31ms/step - accuracy: 0.9660 - loss: 0.1146\n"
          ]
        },
        {
          "output_type": "execute_result",
          "data": {
            "text/plain": [
              "[0.10908212512731552, 0.9649758338928223]"
            ]
          },
          "metadata": {},
          "execution_count": 26
        }
      ]
    },
    {
      "cell_type": "code",
      "source": [
        "y_pred_nn = nn_model.predict(X_val_dense)\n"
      ],
      "metadata": {
        "colab": {
          "base_uri": "https://localhost:8080/"
        },
        "id": "N546h3OjWjzl",
        "outputId": "9644adf3-b318-4ccd-bc22-2df6f9530536"
      },
      "execution_count": 27,
      "outputs": [
        {
          "output_type": "stream",
          "name": "stdout",
          "text": [
            "\u001b[1m52/52\u001b[0m \u001b[32m━━━━━━━━━━━━━━━━━━━━\u001b[0m\u001b[37m\u001b[0m \u001b[1m1s\u001b[0m 23ms/step\n"
          ]
        }
      ]
    },
    {
      "cell_type": "code",
      "source": [
        "results = {}  # Initialize an empty dictionary to store the results of different models."
      ],
      "metadata": {
        "id": "PLZK_G4VqHFU"
      },
      "execution_count": 28,
      "outputs": []
    },
    {
      "cell_type": "code",
      "source": [
        "# evaluation\n",
        "y_pred_nn_binary = (y_pred_nn > 0.5).astype(int)\n",
        "accuracy = accuracy_score(y_val, y_pred_nn_binary)  # Calculate the accuracy of the model by comparing the predicted labels (y_pred) to the actual labels (y_test).\n",
        "\n",
        "# results\n",
        "print(f\"CNN Accuracy: {accuracy}\")  # Print the accuracy of the model, formatted for easy readability.\n",
        "results['CNN'] = accuracy  # Store the accuracy of the logistic regression model in the 'results' dictionary under the key 'Logistic_Regression'.\n",
        "report = classification_report(y_val, y_pred_nn_binary)  # Generate a classification report that includes precision, recall, F1-score, and support for each class.\n",
        "print(f\"Classification Report:\\n{report}\")  # Print the classification report to evaluate the model's performance.\n"
      ],
      "metadata": {
        "colab": {
          "base_uri": "https://localhost:8080/"
        },
        "id": "7VxPNbl5nYeG",
        "outputId": "7b4d7a0d-6e9c-4060-e368-de7aebec5e0f"
      },
      "execution_count": 29,
      "outputs": [
        {
          "output_type": "stream",
          "name": "stdout",
          "text": [
            "CNN Accuracy: 0.964975845410628\n",
            "Classification Report:\n",
            "              precision    recall  f1-score   support\n",
            "\n",
            "           0       0.96      0.97      0.96       807\n",
            "           1       0.97      0.96      0.97       849\n",
            "\n",
            "    accuracy                           0.96      1656\n",
            "   macro avg       0.96      0.97      0.96      1656\n",
            "weighted avg       0.97      0.96      0.96      1656\n",
            "\n"
          ]
        }
      ]
    },
    {
      "cell_type": "code",
      "source": [
        "# Logistic Regression\n",
        "# training\n",
        "results = {}  # Initialize an empty dictionary to store the results of different models.\n",
        "model = LogisticRegression()  # Create an instance of the LogisticRegression model.\n",
        "model.fit(X_train, y_train)  # Train the logistic regression model using the training data (X_train and y_train).\n",
        "\n",
        "# Predictions\n",
        "y_pred = model.predict(X_test)  # Use the trained logistic regression model to predict labels for the test data (X_test).\n",
        "\n",
        "model = LogisticRegression()  # Create an instance of the LogisticRegression model.\n",
        "model.fit(X_train, y_train)  # Train the logistic regression model using the training data (X_train and y_train).\n",
        "\n",
        "# Predictions\n",
        "y_pred = model.predict(X_test)  # Use the trained logistic regression model to predict labels for the test data (X_test).\n",
        "\n",
        "# evaluation\n",
        "accuracy = accuracy_score(y_test, y_pred)  # Calculate the accuracy of the model by comparing the predicted labels (y_pred) to the actual labels (y_test).\n",
        "\n",
        "# results\n",
        "print(f\"Logistic_Regression Accuracy: {accuracy}\")  # Print the accuracy of the model, formatted for easy readability.\n",
        "results['Logistic_Regression'] = accuracy  # Store the accuracy of the logistic regression model in the 'results' dictionary under the key 'Logistic_Regression'.\n",
        "report = classification_report(y_test, y_pred)  # Generate a classification report that includes precision, recall, F1-score, and support for each class.\n",
        "print(f\"Classification Report:\\n{report}\")  # Print the classification report to evaluate the model's performance.\n",
        "\n",
        "\n",
        "#1 cv_scores = cross_val_score(model, X, y, cv=10)\n",
        "# Perform 10-fold cross-validation on the logistic regression model using the full dataset (X, y).\n",
        "# The 'cv=10' parameter indicates that the data is split into 10 parts, and the model is trained and tested 10 times, each time on a different part.\n",
        "# The result is an array of accuracy scores from each of the 10 folds, stored in 'cv_scores'.\n",
        "\n",
        "#2 mean_cv_score = np.mean(cv_scores)  # Calculate the mean accuracy score from the cross-validation results.\n",
        "#3 std_cv_score = np.std(cv_scores)  # Calculate the standard deviation of the accuracy scores from the cross-validation.\n",
        "#4 standard_error = std_cv_score / np.sqrt(len(cv_scores))  # Compute the standard error of the mean, which indicates the precision of the cross-validation results.\n",
        "\n",
        "#5 print(f\"Mean Cross-Validation Score: {mean_cv_score:.4f}\")  # Print the mean cross-validation accuracy score, formatted to four decimal places.\n",
        "#6 print(f\"Standard Error of Cross-Validation Score: {standard_error:.4f}\")  # Print the standard error of the cross-validation score, also formatted to four decimal places.\n"
      ],
      "metadata": {
        "colab": {
          "base_uri": "https://localhost:8080/"
        },
        "id": "-qX9ONl5O_qR",
        "outputId": "bf14dafb-7aad-418b-cb2e-35cd11131734"
      },
      "execution_count": 30,
      "outputs": [
        {
          "output_type": "stream",
          "name": "stdout",
          "text": [
            "Logistic_Regression Accuracy: 0.9685990338164251\n",
            "Classification Report:\n",
            "              precision    recall  f1-score   support\n",
            "\n",
            "           0       0.97      0.97      0.97      1058\n",
            "           1       0.97      0.97      0.97      1012\n",
            "\n",
            "    accuracy                           0.97      2070\n",
            "   macro avg       0.97      0.97      0.97      2070\n",
            "weighted avg       0.97      0.97      0.97      2070\n",
            "\n"
          ]
        }
      ]
    },
    {
      "cell_type": "markdown",
      "metadata": {
        "id": "1UZ9snB8h2CU"
      },
      "source": [
        "## Evaluation Metrics\n",
        "\n",
        "[Clearly specify which metrics you'll use to evaluate the model performance, and why you've chosen these metrics.]\n"
      ]
    },
    {
      "cell_type": "code",
      "execution_count": 20,
      "metadata": {
        "id": "sUlCHnxHh2CW"
      },
      "outputs": [],
      "source": [
        "# Evaluate the model using your chosen metrics\n",
        "# Example for classification\n",
        "# y_pred = model.predict(X_test)\n",
        "# print(classification_report(y_test, y_pred))\n",
        "\n",
        "# Example for regression\n",
        "# mse = mean_squared_error(y_test, y_pred)\n",
        "\n",
        "# Your evaluation code here\n"
      ]
    },
    {
      "cell_type": "markdown",
      "metadata": {
        "id": "-AS2B1gMh2CX"
      },
      "source": [
        "## Comparative Analysis\n",
        "\n",
        "[Compare the performance of your model(s) against the baseline model. Discuss any improvements or setbacks and the reasons behind them.]\n"
      ]
    },
    {
      "cell_type": "code",
      "execution_count": null,
      "metadata": {
        "id": "45iuL-AMh2CY"
      },
      "outputs": [],
      "source": [
        "# Comparative Analysis code (if applicable)\n",
        "# Example: comparing accuracy of the baseline model and the new model\n",
        "# print(f\"Baseline Model Accuracy: {baseline_accuracy}, New Model Accuracy: {new_model_accuracy}\")\n"
      ]
    }
  ],
  "metadata": {
    "colab": {
      "provenance": [],
      "gpuType": "T4"
    },
    "kernelspec": {
      "display_name": "Python 3",
      "name": "python3"
    },
    "language_info": {
      "name": "python"
    },
    "accelerator": "GPU"
  },
  "nbformat": 4,
  "nbformat_minor": 0
}